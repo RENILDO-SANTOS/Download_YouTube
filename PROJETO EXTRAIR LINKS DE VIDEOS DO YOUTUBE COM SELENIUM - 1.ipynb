{
 "cells": [
  {
   "cell_type": "markdown",
   "id": "2fd4e362",
   "metadata": {},
   "source": [
    "## EXTRAIR LINK VIDEOS DO YOUTUBE"
   ]
  },
  {
   "cell_type": "code",
   "execution_count": null,
   "id": "53c80804",
   "metadata": {},
   "outputs": [],
   "source": [
    "from selenium import webdriver\n",
    "from selenium.webdriver.common.keys import Keys\n",
    "import time\n",
    "\n",
    "driver = webdriver.Chrome()\n",
    "driver.get(\"https://www.youtube.com\")\n",
    "\n",
    "time.sleep(10)\n",
    "\n",
    "elemento = driver.find_element_by_tag_name(\"input\")\n",
    "elemento.send_keys(\"snap\")\n",
    "elemento.send_keys(Keys.ENTER)\n",
    "\n",
    "time.sleep(6)\n",
    "\n",
    "#DAR SCROlL NA PÁGINA\n",
    "for i in range(2):\n",
    "    scroll = 10000 * i\n",
    "    driver.execute_script(f'window.scroll(0, {scroll});')\n",
    "    time.sleep(2)\n",
    "\n",
    "lista_videos = driver.find_elements_by_id(\"thumbnail\")\n",
    "\n",
    "for video in lista_videos:\n",
    "    print(video.get_attribute(\"href\"))\n",
    "    \n",
    "else:\n",
    "    print('Não econtrado')\n"
   ]
  },
  {
   "cell_type": "markdown",
   "id": "a6e0ff55",
   "metadata": {},
   "source": [
    "## FAZER DOWNLOAD DE AUDIO E VIDEO"
   ]
  },
  {
   "cell_type": "code",
   "execution_count": null,
   "id": "46269d81",
   "metadata": {},
   "outputs": [],
   "source": [
    "import os\n",
    "from pytube import YouTube\n",
    "from pytube.cli import on_progress\n",
    "\n",
    "link = input('Insira o link:' )\n",
    "\n",
    "yt = YouTube(link, on_progress_callback=on_progress)\n",
    "\n",
    "print('Titulo =', yt.title)\n",
    "print('Baixando...')\n",
    "\n",
    "ys = yt.streams.get_audio_only()\n",
    "out_file = ys.download()\n",
    "base, ext = os.path.splitext(out_file)\n",
    "new_file = base + '.mp3'\n",
    "os.rename(out_file, new_file)\n"
   ]
  },
  {
   "cell_type": "code",
   "execution_count": null,
   "id": "620898e6",
   "metadata": {},
   "outputs": [],
   "source": []
  }
 ],
 "metadata": {
  "kernelspec": {
   "display_name": "Python 3",
   "language": "python",
   "name": "python3"
  },
  "language_info": {
   "codemirror_mode": {
    "name": "ipython",
    "version": 3
   },
   "file_extension": ".py",
   "mimetype": "text/x-python",
   "name": "python",
   "nbconvert_exporter": "python",
   "pygments_lexer": "ipython3",
   "version": "3.8.8"
  }
 },
 "nbformat": 4,
 "nbformat_minor": 5
}
